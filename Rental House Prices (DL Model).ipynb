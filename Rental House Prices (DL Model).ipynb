{
 "cells": [
  {
   "cell_type": "code",
   "execution_count": 1,
   "id": "4ea2ac5b",
   "metadata": {},
   "outputs": [],
   "source": [
    "import pandas as pd , numpy as np\n",
    "from tensorflow import keras"
   ]
  },
  {
   "cell_type": "code",
   "execution_count": 2,
   "id": "bf5c00c0",
   "metadata": {},
   "outputs": [
    {
     "data": {
      "text/html": [
       "<div>\n",
       "<style scoped>\n",
       "    .dataframe tbody tr th:only-of-type {\n",
       "        vertical-align: middle;\n",
       "    }\n",
       "\n",
       "    .dataframe tbody tr th {\n",
       "        vertical-align: top;\n",
       "    }\n",
       "\n",
       "    .dataframe thead th {\n",
       "        text-align: right;\n",
       "    }\n",
       "</style>\n",
       "<table border=\"1\" class=\"dataframe\">\n",
       "  <thead>\n",
       "    <tr style=\"text-align: right;\">\n",
       "      <th></th>\n",
       "      <th>house_type</th>\n",
       "      <th>house_size</th>\n",
       "      <th>location</th>\n",
       "      <th>city</th>\n",
       "      <th>latitude</th>\n",
       "      <th>longitude</th>\n",
       "      <th>price</th>\n",
       "      <th>currency</th>\n",
       "      <th>numBathrooms</th>\n",
       "      <th>numBalconies</th>\n",
       "      <th>isNegotiable</th>\n",
       "      <th>priceSqFt</th>\n",
       "      <th>verificationDate</th>\n",
       "      <th>description</th>\n",
       "      <th>SecurityDeposit</th>\n",
       "      <th>Status</th>\n",
       "    </tr>\n",
       "  </thead>\n",
       "  <tbody>\n",
       "    <tr>\n",
       "      <th>0</th>\n",
       "      <td>1 RK Studio Apartment</td>\n",
       "      <td>400 sq ft</td>\n",
       "      <td>Kalkaji</td>\n",
       "      <td>Delhi</td>\n",
       "      <td>28.545561</td>\n",
       "      <td>77.254349</td>\n",
       "      <td>22000</td>\n",
       "      <td>INR</td>\n",
       "      <td>1.0</td>\n",
       "      <td>NaN</td>\n",
       "      <td>NaN</td>\n",
       "      <td>NaN</td>\n",
       "      <td>Posted a day ago</td>\n",
       "      <td>Fully furnished, loaded with amenities &amp; gadge...</td>\n",
       "      <td>No Deposit</td>\n",
       "      <td>Furnished</td>\n",
       "    </tr>\n",
       "    <tr>\n",
       "      <th>1</th>\n",
       "      <td>1 RK Studio Apartment</td>\n",
       "      <td>400 sq ft</td>\n",
       "      <td>Mansarover Garden</td>\n",
       "      <td>Delhi</td>\n",
       "      <td>28.643259</td>\n",
       "      <td>77.132828</td>\n",
       "      <td>20000</td>\n",
       "      <td>INR</td>\n",
       "      <td>1.0</td>\n",
       "      <td>NaN</td>\n",
       "      <td>NaN</td>\n",
       "      <td>NaN</td>\n",
       "      <td>Posted 9 days ago</td>\n",
       "      <td>Here is an excellent 1 BHK Independent Floor a...</td>\n",
       "      <td>No Deposit</td>\n",
       "      <td>Furnished</td>\n",
       "    </tr>\n",
       "    <tr>\n",
       "      <th>2</th>\n",
       "      <td>2 BHK Independent Floor</td>\n",
       "      <td>500 sq ft</td>\n",
       "      <td>Uttam Nagar</td>\n",
       "      <td>Delhi</td>\n",
       "      <td>28.618677</td>\n",
       "      <td>77.053352</td>\n",
       "      <td>8500</td>\n",
       "      <td>INR</td>\n",
       "      <td>1.0</td>\n",
       "      <td>NaN</td>\n",
       "      <td>NaN</td>\n",
       "      <td>NaN</td>\n",
       "      <td>Posted 12 days ago</td>\n",
       "      <td>Zero Brokerage.\\n\\n2 Room set, Govt bijali Met...</td>\n",
       "      <td>No Deposit</td>\n",
       "      <td>Semi-Furnished</td>\n",
       "    </tr>\n",
       "    <tr>\n",
       "      <th>3</th>\n",
       "      <td>3 BHK Independent House</td>\n",
       "      <td>1,020 sq ft</td>\n",
       "      <td>Model Town</td>\n",
       "      <td>Delhi</td>\n",
       "      <td>28.712898</td>\n",
       "      <td>77.180000</td>\n",
       "      <td>48000</td>\n",
       "      <td>INR</td>\n",
       "      <td>3.0</td>\n",
       "      <td>NaN</td>\n",
       "      <td>NaN</td>\n",
       "      <td>NaN</td>\n",
       "      <td>Posted a year ago</td>\n",
       "      <td>Itâs a 3 bhk independent house situated in M...</td>\n",
       "      <td>No Deposit</td>\n",
       "      <td>Furnished</td>\n",
       "    </tr>\n",
       "    <tr>\n",
       "      <th>4</th>\n",
       "      <td>2 BHK Apartment</td>\n",
       "      <td>810 sq ft</td>\n",
       "      <td>Sector 13 Rohini</td>\n",
       "      <td>Delhi</td>\n",
       "      <td>28.723539</td>\n",
       "      <td>77.131424</td>\n",
       "      <td>20000</td>\n",
       "      <td>INR</td>\n",
       "      <td>2.0</td>\n",
       "      <td>NaN</td>\n",
       "      <td>NaN</td>\n",
       "      <td>NaN</td>\n",
       "      <td>Posted a year ago</td>\n",
       "      <td>Well designed 2 bhk multistorey apartment is a...</td>\n",
       "      <td>No Deposit</td>\n",
       "      <td>Unfurnished</td>\n",
       "    </tr>\n",
       "  </tbody>\n",
       "</table>\n",
       "</div>"
      ],
      "text/plain": [
       "                 house_type   house_size           location   city   latitude  \\\n",
       "0    1 RK Studio Apartment     400 sq ft            Kalkaji  Delhi  28.545561   \n",
       "1    1 RK Studio Apartment     400 sq ft  Mansarover Garden  Delhi  28.643259   \n",
       "2  2 BHK Independent Floor     500 sq ft        Uttam Nagar  Delhi  28.618677   \n",
       "3  3 BHK Independent House   1,020 sq ft         Model Town  Delhi  28.712898   \n",
       "4          2 BHK Apartment     810 sq ft   Sector 13 Rohini  Delhi  28.723539   \n",
       "\n",
       "   longitude  price currency  numBathrooms  numBalconies isNegotiable  \\\n",
       "0  77.254349  22000      INR           1.0           NaN          NaN   \n",
       "1  77.132828  20000      INR           1.0           NaN          NaN   \n",
       "2  77.053352   8500      INR           1.0           NaN          NaN   \n",
       "3  77.180000  48000      INR           3.0           NaN          NaN   \n",
       "4  77.131424  20000      INR           2.0           NaN          NaN   \n",
       "\n",
       "   priceSqFt    verificationDate  \\\n",
       "0        NaN    Posted a day ago   \n",
       "1        NaN   Posted 9 days ago   \n",
       "2        NaN  Posted 12 days ago   \n",
       "3        NaN   Posted a year ago   \n",
       "4        NaN   Posted a year ago   \n",
       "\n",
       "                                         description SecurityDeposit  \\\n",
       "0  Fully furnished, loaded with amenities & gadge...      No Deposit   \n",
       "1  Here is an excellent 1 BHK Independent Floor a...      No Deposit   \n",
       "2  Zero Brokerage.\\n\\n2 Room set, Govt bijali Met...      No Deposit   \n",
       "3  Itâs a 3 bhk independent house situated in M...      No Deposit   \n",
       "4  Well designed 2 bhk multistorey apartment is a...      No Deposit   \n",
       "\n",
       "           Status  \n",
       "0       Furnished  \n",
       "1       Furnished  \n",
       "2  Semi-Furnished  \n",
       "3       Furnished  \n",
       "4     Unfurnished  "
      ]
     },
     "execution_count": 2,
     "metadata": {},
     "output_type": "execute_result"
    }
   ],
   "source": [
    "import pandas as pd\n",
    "import tensorflow as tf\n",
    "from sklearn.model_selection import train_test_split\n",
    "from sklearn.preprocessing import OneHotEncoder, StandardScaler\n",
    "from sklearn.compose import ColumnTransformer\n",
    "\n",
    "# Load the dataset\n",
    "df = pd.read_csv(r\"C:\\Users\\nadip\\Downloads\\archive (1)\\Indian_housing_Delhi_data.csv\")\n",
    "df.head()"
   ]
  },
  {
   "cell_type": "code",
   "execution_count": 3,
   "id": "f37987bd",
   "metadata": {},
   "outputs": [
    {
     "name": "stdout",
     "output_type": "stream",
     "text": [
      "<class 'pandas.core.frame.DataFrame'>\n",
      "RangeIndex: 5000 entries, 0 to 4999\n",
      "Data columns (total 16 columns):\n",
      " #   Column            Non-Null Count  Dtype  \n",
      "---  ------            --------------  -----  \n",
      " 0   house_type        5000 non-null   object \n",
      " 1   house_size        5000 non-null   object \n",
      " 2   location          5000 non-null   object \n",
      " 3   city              5000 non-null   object \n",
      " 4   latitude          5000 non-null   float64\n",
      " 5   longitude         5000 non-null   float64\n",
      " 6   price             5000 non-null   int64  \n",
      " 7   currency          5000 non-null   object \n",
      " 8   numBathrooms      4975 non-null   float64\n",
      " 9   numBalconies      2737 non-null   float64\n",
      " 10  isNegotiable      179 non-null    object \n",
      " 11  priceSqFt         0 non-null      float64\n",
      " 12  verificationDate  5000 non-null   object \n",
      " 13  description       4715 non-null   object \n",
      " 14  SecurityDeposit   5000 non-null   object \n",
      " 15  Status            5000 non-null   object \n",
      "dtypes: float64(5), int64(1), object(10)\n",
      "memory usage: 625.1+ KB\n"
     ]
    }
   ],
   "source": [
    "df.info()"
   ]
  },
  {
   "cell_type": "code",
   "execution_count": 4,
   "id": "1fe2a24b",
   "metadata": {},
   "outputs": [
    {
     "data": {
      "text/plain": [
       "0        400\n",
       "1        400\n",
       "2        500\n",
       "3       1020\n",
       "4        810\n",
       "        ... \n",
       "4995    5896\n",
       "4996    6521\n",
       "4997    1855\n",
       "4998    2856\n",
       "4999    2856\n",
       "Name: house_size, Length: 5000, dtype: int32"
      ]
     },
     "execution_count": 4,
     "metadata": {},
     "output_type": "execute_result"
    }
   ],
   "source": [
    "df['house_size'] = df['house_size'].str.replace('sq ft', '').str.replace(',', '').astype(int)\n",
    "df['house_size']"
   ]
  },
  {
   "cell_type": "code",
   "execution_count": 5,
   "id": "cce8f0f7",
   "metadata": {},
   "outputs": [
    {
     "name": "stdout",
     "output_type": "stream",
     "text": [
      "0\n",
      "SecurityDeposit\n",
      "0.0          2224\n",
      "1010202.0     221\n",
      "1810202.0      80\n",
      "1020202.0      70\n",
      "1010220.0      69\n",
      "             ... \n",
      "1854425.0       1\n",
      "1052122.0       1\n",
      "4501105.0       1\n",
      "4011012.0       1\n",
      "5401015.0       1\n",
      "Name: count, Length: 646, dtype: int64\n"
     ]
    }
   ],
   "source": [
    "df['SecurityDeposit'] = (df['SecurityDeposit'].replace('No Deposit', '0').str.strip().str.replace(',', '').astype(float))\n",
    "print(df['SecurityDeposit'].isnull().sum())  \n",
    "print(df['SecurityDeposit'].value_counts())"
   ]
  },
  {
   "cell_type": "code",
   "execution_count": 6,
   "id": "810a22ce",
   "metadata": {},
   "outputs": [],
   "source": [
    "df['numBathrooms'] = df['numBathrooms'].fillna(df['numBathrooms'].mode()[0])\n",
    "df['numBathrooms'] = df['numBathrooms'].astype(int)"
   ]
  },
  {
   "cell_type": "code",
   "execution_count": 7,
   "id": "a767f31d",
   "metadata": {},
   "outputs": [
    {
     "data": {
      "text/html": [
       "<div>\n",
       "<style scoped>\n",
       "    .dataframe tbody tr th:only-of-type {\n",
       "        vertical-align: middle;\n",
       "    }\n",
       "\n",
       "    .dataframe tbody tr th {\n",
       "        vertical-align: top;\n",
       "    }\n",
       "\n",
       "    .dataframe thead th {\n",
       "        text-align: right;\n",
       "    }\n",
       "</style>\n",
       "<table border=\"1\" class=\"dataframe\">\n",
       "  <thead>\n",
       "    <tr style=\"text-align: right;\">\n",
       "      <th></th>\n",
       "      <th>house_type</th>\n",
       "      <th>house_size</th>\n",
       "      <th>location</th>\n",
       "      <th>city</th>\n",
       "      <th>latitude</th>\n",
       "      <th>longitude</th>\n",
       "      <th>price</th>\n",
       "      <th>currency</th>\n",
       "      <th>numBathrooms</th>\n",
       "      <th>numBalconies</th>\n",
       "      <th>isNegotiable</th>\n",
       "      <th>priceSqFt</th>\n",
       "      <th>verificationDate</th>\n",
       "      <th>description</th>\n",
       "      <th>SecurityDeposit</th>\n",
       "      <th>Status</th>\n",
       "    </tr>\n",
       "  </thead>\n",
       "  <tbody>\n",
       "    <tr>\n",
       "      <th>0</th>\n",
       "      <td>1 RK Studio Apartment</td>\n",
       "      <td>400</td>\n",
       "      <td>Kalkaji</td>\n",
       "      <td>Delhi</td>\n",
       "      <td>28.545561</td>\n",
       "      <td>77.254349</td>\n",
       "      <td>22000</td>\n",
       "      <td>INR</td>\n",
       "      <td>1</td>\n",
       "      <td>NaN</td>\n",
       "      <td>NaN</td>\n",
       "      <td>NaN</td>\n",
       "      <td>Posted a day ago</td>\n",
       "      <td>Fully furnished, loaded with amenities &amp; gadge...</td>\n",
       "      <td>0.0</td>\n",
       "      <td>Furnished</td>\n",
       "    </tr>\n",
       "    <tr>\n",
       "      <th>1</th>\n",
       "      <td>1 RK Studio Apartment</td>\n",
       "      <td>400</td>\n",
       "      <td>Mansarover Garden</td>\n",
       "      <td>Delhi</td>\n",
       "      <td>28.643259</td>\n",
       "      <td>77.132828</td>\n",
       "      <td>20000</td>\n",
       "      <td>INR</td>\n",
       "      <td>1</td>\n",
       "      <td>NaN</td>\n",
       "      <td>NaN</td>\n",
       "      <td>NaN</td>\n",
       "      <td>Posted 9 days ago</td>\n",
       "      <td>Here is an excellent 1 BHK Independent Floor a...</td>\n",
       "      <td>0.0</td>\n",
       "      <td>Furnished</td>\n",
       "    </tr>\n",
       "    <tr>\n",
       "      <th>2</th>\n",
       "      <td>2 BHK Independent Floor</td>\n",
       "      <td>500</td>\n",
       "      <td>Uttam Nagar</td>\n",
       "      <td>Delhi</td>\n",
       "      <td>28.618677</td>\n",
       "      <td>77.053352</td>\n",
       "      <td>8500</td>\n",
       "      <td>INR</td>\n",
       "      <td>1</td>\n",
       "      <td>NaN</td>\n",
       "      <td>NaN</td>\n",
       "      <td>NaN</td>\n",
       "      <td>Posted 12 days ago</td>\n",
       "      <td>Zero Brokerage.\\n\\n2 Room set, Govt bijali Met...</td>\n",
       "      <td>0.0</td>\n",
       "      <td>Semi-Furnished</td>\n",
       "    </tr>\n",
       "    <tr>\n",
       "      <th>3</th>\n",
       "      <td>3 BHK Independent House</td>\n",
       "      <td>1020</td>\n",
       "      <td>Model Town</td>\n",
       "      <td>Delhi</td>\n",
       "      <td>28.712898</td>\n",
       "      <td>77.180000</td>\n",
       "      <td>48000</td>\n",
       "      <td>INR</td>\n",
       "      <td>3</td>\n",
       "      <td>NaN</td>\n",
       "      <td>NaN</td>\n",
       "      <td>NaN</td>\n",
       "      <td>Posted a year ago</td>\n",
       "      <td>Itâs a 3 bhk independent house situated in M...</td>\n",
       "      <td>0.0</td>\n",
       "      <td>Furnished</td>\n",
       "    </tr>\n",
       "    <tr>\n",
       "      <th>4</th>\n",
       "      <td>2 BHK Apartment</td>\n",
       "      <td>810</td>\n",
       "      <td>Sector 13 Rohini</td>\n",
       "      <td>Delhi</td>\n",
       "      <td>28.723539</td>\n",
       "      <td>77.131424</td>\n",
       "      <td>20000</td>\n",
       "      <td>INR</td>\n",
       "      <td>2</td>\n",
       "      <td>NaN</td>\n",
       "      <td>NaN</td>\n",
       "      <td>NaN</td>\n",
       "      <td>Posted a year ago</td>\n",
       "      <td>Well designed 2 bhk multistorey apartment is a...</td>\n",
       "      <td>0.0</td>\n",
       "      <td>Unfurnished</td>\n",
       "    </tr>\n",
       "  </tbody>\n",
       "</table>\n",
       "</div>"
      ],
      "text/plain": [
       "                 house_type  house_size           location   city   latitude  \\\n",
       "0    1 RK Studio Apartment          400            Kalkaji  Delhi  28.545561   \n",
       "1    1 RK Studio Apartment          400  Mansarover Garden  Delhi  28.643259   \n",
       "2  2 BHK Independent Floor          500        Uttam Nagar  Delhi  28.618677   \n",
       "3  3 BHK Independent House         1020         Model Town  Delhi  28.712898   \n",
       "4          2 BHK Apartment          810   Sector 13 Rohini  Delhi  28.723539   \n",
       "\n",
       "   longitude  price currency  numBathrooms  numBalconies isNegotiable  \\\n",
       "0  77.254349  22000      INR             1           NaN          NaN   \n",
       "1  77.132828  20000      INR             1           NaN          NaN   \n",
       "2  77.053352   8500      INR             1           NaN          NaN   \n",
       "3  77.180000  48000      INR             3           NaN          NaN   \n",
       "4  77.131424  20000      INR             2           NaN          NaN   \n",
       "\n",
       "   priceSqFt    verificationDate  \\\n",
       "0        NaN    Posted a day ago   \n",
       "1        NaN   Posted 9 days ago   \n",
       "2        NaN  Posted 12 days ago   \n",
       "3        NaN   Posted a year ago   \n",
       "4        NaN   Posted a year ago   \n",
       "\n",
       "                                         description  SecurityDeposit  \\\n",
       "0  Fully furnished, loaded with amenities & gadge...              0.0   \n",
       "1  Here is an excellent 1 BHK Independent Floor a...              0.0   \n",
       "2  Zero Brokerage.\\n\\n2 Room set, Govt bijali Met...              0.0   \n",
       "3  Itâs a 3 bhk independent house situated in M...              0.0   \n",
       "4  Well designed 2 bhk multistorey apartment is a...              0.0   \n",
       "\n",
       "           Status  \n",
       "0       Furnished  \n",
       "1       Furnished  \n",
       "2  Semi-Furnished  \n",
       "3       Furnished  \n",
       "4     Unfurnished  "
      ]
     },
     "execution_count": 7,
     "metadata": {},
     "output_type": "execute_result"
    }
   ],
   "source": [
    "df.head()"
   ]
  },
  {
   "cell_type": "code",
   "execution_count": 8,
   "id": "833e3432",
   "metadata": {},
   "outputs": [],
   "source": [
    "# Define features and target\n",
    "X = df[['house_type', 'house_size', 'location', 'SecurityDeposit', 'Status', 'numBathrooms', 'city']]\n",
    "y = df['price']"
   ]
  },
  {
   "cell_type": "code",
   "execution_count": 9,
   "id": "16e18d4d",
   "metadata": {},
   "outputs": [],
   "source": [
    "# Preprocessing\n",
    "categorical_features = ['house_type', 'location', 'Status', 'city']\n",
    "numerical_features = ['house_size', 'SecurityDeposit', 'numBathrooms']\n",
    "\n",
    "preprocessor = ColumnTransformer([\n",
    "    ('num', StandardScaler(), numerical_features),\n",
    "    ('cat', OneHotEncoder(handle_unknown='ignore'), categorical_features)\n",
    "])\n",
    "\n",
    "X_processed = preprocessor.fit_transform(X)"
   ]
  },
  {
   "cell_type": "code",
   "execution_count": 10,
   "id": "1f324320",
   "metadata": {},
   "outputs": [],
   "source": [
    "# Train-test split\n",
    "X_train, X_test, y_train, y_test = train_test_split(X, y, test_size=0.2, random_state=42)"
   ]
  },
  {
   "cell_type": "code",
   "execution_count": 11,
   "id": "c68b7ded",
   "metadata": {},
   "outputs": [],
   "source": [
    "# Define numerical and categorical columns\n",
    "numerical_cols = ['house_size', 'SecurityDeposit', 'numBathrooms']\n",
    "categorical_cols = ['house_type', 'location', 'Status', 'city']\n",
    "\n",
    "preprocessor = ColumnTransformer(\n",
    "    transformers=[\n",
    "        ('num', StandardScaler(), numerical_cols),  \n",
    "        ('cat', OneHotEncoder(handle_unknown='ignore'), categorical_cols)  \n",
    "    ]\n",
    ")\n",
    "\n",
    "# Apply preprocessing to the training and test datasets\n",
    "X_train_processed = preprocessor.fit_transform(X_train)\n",
    "X_test_processed = preprocessor.transform(X_test)"
   ]
  },
  {
   "cell_type": "code",
   "execution_count": 12,
   "id": "9a42a684",
   "metadata": {},
   "outputs": [],
   "source": [
    "# Model Building\n",
    "from keras import models\n",
    "from keras import layers"
   ]
  },
  {
   "cell_type": "code",
   "execution_count": 13,
   "id": "960cbcef",
   "metadata": {},
   "outputs": [
    {
     "name": "stderr",
     "output_type": "stream",
     "text": [
      "C:\\Users\\nadip\\AppData\\Roaming\\Python\\Python312\\site-packages\\keras\\src\\layers\\core\\dense.py:87: UserWarning: Do not pass an `input_shape`/`input_dim` argument to a layer. When using Sequential models, prefer using an `Input(shape)` object as the first layer in the model instead.\n",
      "  super().__init__(activity_regularizer=activity_regularizer, **kwargs)\n"
     ]
    }
   ],
   "source": [
    "ANN_reg = models.Sequential()\n",
    "ANN_reg.add(layers.Dense(units=128,activation='relu',input_dim=X_train_processed.shape[1]))\n",
    "ANN_reg.add(layers.Dense(units=64,activation='relu'))\n",
    "ANN_reg.add(layers.Dense(units=1,activation='linear'))"
   ]
  },
  {
   "cell_type": "code",
   "execution_count": 14,
   "id": "f19dfd57",
   "metadata": {},
   "outputs": [],
   "source": [
    "ANN_reg.compile(optimizer='sgd',loss='MAE',metrics=[keras.metrics.RootMeanSquaredError])"
   ]
  },
  {
   "cell_type": "code",
   "execution_count": 15,
   "id": "6936d186",
   "metadata": {},
   "outputs": [
    {
     "name": "stdout",
     "output_type": "stream",
     "text": [
      "Epoch 1/10\n",
      "\u001b[1m125/125\u001b[0m \u001b[32m━━━━━━━━━━━━━━━━━━━━\u001b[0m\u001b[37m\u001b[0m \u001b[1m1s\u001b[0m 2ms/step - loss: 217870.7344 - root_mean_squared_error: 347838.8438\n",
      "Epoch 2/10\n",
      "\u001b[1m125/125\u001b[0m \u001b[32m━━━━━━━━━━━━━━━━━━━━\u001b[0m\u001b[37m\u001b[0m \u001b[1m0s\u001b[0m 2ms/step - loss: 155588.4375 - root_mean_squared_error: 261164.4375\n",
      "Epoch 3/10\n",
      "\u001b[1m125/125\u001b[0m \u001b[32m━━━━━━━━━━━━━━━━━━━━\u001b[0m\u001b[37m\u001b[0m \u001b[1m0s\u001b[0m 2ms/step - loss: 138108.7656 - root_mean_squared_error: 230248.4531\n",
      "Epoch 4/10\n",
      "\u001b[1m125/125\u001b[0m \u001b[32m━━━━━━━━━━━━━━━━━━━━\u001b[0m\u001b[37m\u001b[0m \u001b[1m0s\u001b[0m 2ms/step - loss: 171440.7812 - root_mean_squared_error: 292279.0625\n",
      "Epoch 5/10\n",
      "\u001b[1m125/125\u001b[0m \u001b[32m━━━━━━━━━━━━━━━━━━━━\u001b[0m\u001b[37m\u001b[0m \u001b[1m0s\u001b[0m 2ms/step - loss: 145503.3281 - root_mean_squared_error: 245676.9375\n",
      "Epoch 6/10\n",
      "\u001b[1m125/125\u001b[0m \u001b[32m━━━━━━━━━━━━━━━━━━━━\u001b[0m\u001b[37m\u001b[0m \u001b[1m0s\u001b[0m 3ms/step - loss: 130386.0703 - root_mean_squared_error: 227933.0156\n",
      "Epoch 7/10\n",
      "\u001b[1m125/125\u001b[0m \u001b[32m━━━━━━━━━━━━━━━━━━━━\u001b[0m\u001b[37m\u001b[0m \u001b[1m0s\u001b[0m 2ms/step - loss: 115355.3750 - root_mean_squared_error: 202356.1094\n",
      "Epoch 8/10\n",
      "\u001b[1m125/125\u001b[0m \u001b[32m━━━━━━━━━━━━━━━━━━━━\u001b[0m\u001b[37m\u001b[0m \u001b[1m0s\u001b[0m 2ms/step - loss: 135137.6250 - root_mean_squared_error: 236275.4375\n",
      "Epoch 9/10\n",
      "\u001b[1m125/125\u001b[0m \u001b[32m━━━━━━━━━━━━━━━━━━━━\u001b[0m\u001b[37m\u001b[0m \u001b[1m0s\u001b[0m 2ms/step - loss: 128388.8984 - root_mean_squared_error: 223171.2969\n",
      "Epoch 10/10\n",
      "\u001b[1m125/125\u001b[0m \u001b[32m━━━━━━━━━━━━━━━━━━━━\u001b[0m\u001b[37m\u001b[0m \u001b[1m0s\u001b[0m 2ms/step - loss: 146474.7812 - root_mean_squared_error: 255884.0938\n"
     ]
    },
    {
     "data": {
      "text/plain": [
       "<keras.src.callbacks.history.History at 0x1b5c89e3830>"
      ]
     },
     "execution_count": 15,
     "metadata": {},
     "output_type": "execute_result"
    }
   ],
   "source": [
    "ANN_reg.fit(X_train_processed, y_train, batch_size=32, epochs=10)"
   ]
  },
  {
   "cell_type": "code",
   "execution_count": 16,
   "id": "5ebeb678",
   "metadata": {},
   "outputs": [
    {
     "name": "stdout",
     "output_type": "stream",
     "text": [
      "\u001b[1m32/32\u001b[0m \u001b[32m━━━━━━━━━━━━━━━━━━━━\u001b[0m\u001b[37m\u001b[0m \u001b[1m0s\u001b[0m 4ms/step - loss: 149212.4844 - root_mean_squared_error: 205024.4375 \n"
     ]
    },
    {
     "data": {
      "text/plain": [
       "[149558.921875, 206224.015625]"
      ]
     },
     "execution_count": 16,
     "metadata": {},
     "output_type": "execute_result"
    }
   ],
   "source": [
    "ANN_reg.evaluate(X_test_processed,y_test)"
   ]
  },
  {
   "cell_type": "code",
   "execution_count": null,
   "id": "b7d610ad",
   "metadata": {},
   "outputs": [],
   "source": []
  }
 ],
 "metadata": {
  "kernelspec": {
   "display_name": "Python 3 (ipykernel)",
   "language": "python",
   "name": "python3"
  },
  "language_info": {
   "codemirror_mode": {
    "name": "ipython",
    "version": 3
   },
   "file_extension": ".py",
   "mimetype": "text/x-python",
   "name": "python",
   "nbconvert_exporter": "python",
   "pygments_lexer": "ipython3",
   "version": "3.12.7"
  }
 },
 "nbformat": 4,
 "nbformat_minor": 5
}
